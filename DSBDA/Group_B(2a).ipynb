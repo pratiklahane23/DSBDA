{
 "cells": [
  {
   "cell_type": "code",
   "execution_count": 1,
   "id": "718e8baa-751e-4b1d-8cb0-2f150c603810",
   "metadata": {},
   "outputs": [],
   "source": [
    "#Yash Gharate\n",
    "import pandas as pd\n",
    "import matplotlib.pyplot as plt\n",
    "import seaborn as sbn\n",
    "A= pd.read_csv('airquality1.csv')"
   ]
  },
  {
   "cell_type": "code",
   "execution_count": 2,
   "id": "79a856be-0799-433c-9001-78c3d948954b",
   "metadata": {},
   "outputs": [
    {
     "data": {
      "text/html": [
       "<div>\n",
       "<style scoped>\n",
       "    .dataframe tbody tr th:only-of-type {\n",
       "        vertical-align: middle;\n",
       "    }\n",
       "\n",
       "    .dataframe tbody tr th {\n",
       "        vertical-align: top;\n",
       "    }\n",
       "\n",
       "    .dataframe thead th {\n",
       "        text-align: right;\n",
       "    }\n",
       "</style>\n",
       "<table border=\"1\" class=\"dataframe\">\n",
       "  <thead>\n",
       "    <tr style=\"text-align: right;\">\n",
       "      <th></th>\n",
       "      <th>Unnamed: 0</th>\n",
       "      <th>Ozone</th>\n",
       "      <th>Solar.R</th>\n",
       "      <th>Wind</th>\n",
       "      <th>Temp</th>\n",
       "      <th>Month</th>\n",
       "      <th>Day</th>\n",
       "      <th>humidity</th>\n",
       "    </tr>\n",
       "  </thead>\n",
       "  <tbody>\n",
       "    <tr>\n",
       "      <th>0</th>\n",
       "      <td>1</td>\n",
       "      <td>41.0</td>\n",
       "      <td>190.0</td>\n",
       "      <td>7.4</td>\n",
       "      <td>67</td>\n",
       "      <td>5</td>\n",
       "      <td>1</td>\n",
       "      <td>high</td>\n",
       "    </tr>\n",
       "    <tr>\n",
       "      <th>1</th>\n",
       "      <td>2</td>\n",
       "      <td>36.0</td>\n",
       "      <td>118.0</td>\n",
       "      <td>8.0</td>\n",
       "      <td>72</td>\n",
       "      <td>5</td>\n",
       "      <td>2</td>\n",
       "      <td>high</td>\n",
       "    </tr>\n",
       "    <tr>\n",
       "      <th>2</th>\n",
       "      <td>3</td>\n",
       "      <td>12.0</td>\n",
       "      <td>149.0</td>\n",
       "      <td>12.6</td>\n",
       "      <td>74</td>\n",
       "      <td>5</td>\n",
       "      <td>3</td>\n",
       "      <td>high</td>\n",
       "    </tr>\n",
       "    <tr>\n",
       "      <th>3</th>\n",
       "      <td>4</td>\n",
       "      <td>18.0</td>\n",
       "      <td>313.0</td>\n",
       "      <td>11.5</td>\n",
       "      <td>62</td>\n",
       "      <td>5</td>\n",
       "      <td>4</td>\n",
       "      <td>high</td>\n",
       "    </tr>\n",
       "    <tr>\n",
       "      <th>4</th>\n",
       "      <td>5</td>\n",
       "      <td>NaN</td>\n",
       "      <td>NaN</td>\n",
       "      <td>14.3</td>\n",
       "      <td>56</td>\n",
       "      <td>5</td>\n",
       "      <td>5</td>\n",
       "      <td>high</td>\n",
       "    </tr>\n",
       "  </tbody>\n",
       "</table>\n",
       "</div>"
      ],
      "text/plain": [
       "   Unnamed: 0  Ozone  Solar.R  Wind  Temp  Month  Day humidity\n",
       "0           1   41.0    190.0   7.4    67      5    1     high\n",
       "1           2   36.0    118.0   8.0    72      5    2     high\n",
       "2           3   12.0    149.0  12.6    74      5    3     high\n",
       "3           4   18.0    313.0  11.5    62      5    4     high\n",
       "4           5    NaN      NaN  14.3    56      5    5     high"
      ]
     },
     "execution_count": 2,
     "metadata": {},
     "output_type": "execute_result"
    }
   ],
   "source": [
    "A.head()"
   ]
  },
  {
   "cell_type": "code",
   "execution_count": 3,
   "id": "3cf4311e-9bb1-42cb-96f0-12c3b670ffff",
   "metadata": {},
   "outputs": [],
   "source": [
    "#Cleaning Data\n",
    "#Dropping columns\n",
    "A = A.drop(['Unnamed: 0'], axis=1)"
   ]
  },
  {
   "cell_type": "code",
   "execution_count": 4,
   "id": "cd813013-8705-4538-b79b-4206fcfb7ad6",
   "metadata": {},
   "outputs": [
    {
     "data": {
      "text/plain": [
       "Ozone       37\n",
       "Solar.R      7\n",
       "Wind         0\n",
       "Temp         0\n",
       "Month        0\n",
       "Day          0\n",
       "humidity     4\n",
       "dtype: int64"
      ]
     },
     "execution_count": 4,
     "metadata": {},
     "output_type": "execute_result"
    }
   ],
   "source": [
    "#Checking null values in dataset\n",
    "A.isnull().sum()"
   ]
  },
  {
   "cell_type": "code",
   "execution_count": 5,
   "id": "a90fac0e-a896-4cb9-9875-a5029c349d14",
   "metadata": {},
   "outputs": [],
   "source": [
    "#taking mean of ozone solar and humidity\n",
    "meanOzone = A[['Ozone']].mean()\n",
    "meanSolar = A[['Solar.R']].mean()\n",
    "meanhumidity = A['humidity'].mode()[0]"
   ]
  },
  {
   "cell_type": "code",
   "execution_count": 6,
   "id": "2d95c818-ce1f-4212-85c8-ef67b86c5c4d",
   "metadata": {},
   "outputs": [],
   "source": [
    "#Filling null values\n",
    "A[[\"Ozone\"]]=A[[\"Ozone\"]].fillna(value=meanOzone)\n",
    "A[[\"Solar.R\"]]=A[[\"Solar.R\"]].fillna(value=meanSolar)\n",
    "A[[\"humidity\"]]=A[[\"humidity\"]].fillna(value=meanhumidity)"
   ]
  },
  {
   "cell_type": "code",
   "execution_count": 7,
   "id": "18a2410b-f681-4be0-a11b-96080fe023ec",
   "metadata": {},
   "outputs": [
    {
     "data": {
      "text/plain": [
       "Ozone       0\n",
       "Solar.R     0\n",
       "Wind        0\n",
       "Temp        0\n",
       "Month       0\n",
       "Day         0\n",
       "humidity    0\n",
       "dtype: int64"
      ]
     },
     "execution_count": 7,
     "metadata": {},
     "output_type": "execute_result"
    }
   ],
   "source": [
    "A.isnull().sum()"
   ]
  },
  {
   "cell_type": "code",
   "execution_count": 8,
   "id": "4ebbf8e6-5652-4adb-b79e-5c370c82e840",
   "metadata": {},
   "outputs": [],
   "source": [
    "#Data Integration\n",
    "subset1 = A.loc[0:5,['Ozone']]\n",
    "subset2 = A.loc[0:10,['humidity','Ozone']]"
   ]
  },
  {
   "cell_type": "code",
   "execution_count": 9,
   "id": "4062da5c-c424-4658-bae9-c84aac19ceec",
   "metadata": {},
   "outputs": [
    {
     "data": {
      "text/plain": [
       "(6, 1)"
      ]
     },
     "execution_count": 9,
     "metadata": {},
     "output_type": "execute_result"
    }
   ],
   "source": [
    "subset1.shape"
   ]
  },
  {
   "cell_type": "code",
   "execution_count": 10,
   "id": "591532d4-1a64-49b6-81fe-ab3c177e6e47",
   "metadata": {},
   "outputs": [
    {
     "data": {
      "text/plain": [
       "(11, 2)"
      ]
     },
     "execution_count": 10,
     "metadata": {},
     "output_type": "execute_result"
    }
   ],
   "source": [
    "subset2.shape"
   ]
  },
  {
   "cell_type": "code",
   "execution_count": 11,
   "id": "adbe0f08-5614-4592-8e67-7f88fa03c9fd",
   "metadata": {},
   "outputs": [
    {
     "data": {
      "text/plain": [
       "(7, 2)"
      ]
     },
     "execution_count": 11,
     "metadata": {},
     "output_type": "execute_result"
    }
   ],
   "source": [
    "merge= subset2.merge(subset1)\n",
    "merge.shape"
   ]
  },
  {
   "cell_type": "code",
   "execution_count": 12,
   "id": "79da59a3-44b4-40d6-aa6b-285907f2e617",
   "metadata": {},
   "outputs": [
    {
     "data": {
      "text/html": [
       "<div>\n",
       "<style scoped>\n",
       "    .dataframe tbody tr th:only-of-type {\n",
       "        vertical-align: middle;\n",
       "    }\n",
       "\n",
       "    .dataframe tbody tr th {\n",
       "        vertical-align: top;\n",
       "    }\n",
       "\n",
       "    .dataframe thead th {\n",
       "        text-align: right;\n",
       "    }\n",
       "</style>\n",
       "<table border=\"1\" class=\"dataframe\">\n",
       "  <thead>\n",
       "    <tr style=\"text-align: right;\">\n",
       "      <th></th>\n",
       "      <th>Ozone</th>\n",
       "      <th>Solar.R</th>\n",
       "      <th>Wind</th>\n",
       "      <th>Temp</th>\n",
       "      <th>Month</th>\n",
       "      <th>Day</th>\n",
       "      <th>humidity</th>\n",
       "      <th>high</th>\n",
       "      <th>low</th>\n",
       "      <th>medium</th>\n",
       "    </tr>\n",
       "  </thead>\n",
       "  <tbody>\n",
       "    <tr>\n",
       "      <th>0</th>\n",
       "      <td>41.00000</td>\n",
       "      <td>190.000000</td>\n",
       "      <td>7.4</td>\n",
       "      <td>67</td>\n",
       "      <td>5</td>\n",
       "      <td>1</td>\n",
       "      <td>high</td>\n",
       "      <td>True</td>\n",
       "      <td>False</td>\n",
       "      <td>False</td>\n",
       "    </tr>\n",
       "    <tr>\n",
       "      <th>1</th>\n",
       "      <td>36.00000</td>\n",
       "      <td>118.000000</td>\n",
       "      <td>8.0</td>\n",
       "      <td>72</td>\n",
       "      <td>5</td>\n",
       "      <td>2</td>\n",
       "      <td>high</td>\n",
       "      <td>True</td>\n",
       "      <td>False</td>\n",
       "      <td>False</td>\n",
       "    </tr>\n",
       "    <tr>\n",
       "      <th>2</th>\n",
       "      <td>12.00000</td>\n",
       "      <td>149.000000</td>\n",
       "      <td>12.6</td>\n",
       "      <td>74</td>\n",
       "      <td>5</td>\n",
       "      <td>3</td>\n",
       "      <td>high</td>\n",
       "      <td>True</td>\n",
       "      <td>False</td>\n",
       "      <td>False</td>\n",
       "    </tr>\n",
       "    <tr>\n",
       "      <th>3</th>\n",
       "      <td>18.00000</td>\n",
       "      <td>313.000000</td>\n",
       "      <td>11.5</td>\n",
       "      <td>62</td>\n",
       "      <td>5</td>\n",
       "      <td>4</td>\n",
       "      <td>high</td>\n",
       "      <td>True</td>\n",
       "      <td>False</td>\n",
       "      <td>False</td>\n",
       "    </tr>\n",
       "    <tr>\n",
       "      <th>4</th>\n",
       "      <td>42.12931</td>\n",
       "      <td>185.931507</td>\n",
       "      <td>14.3</td>\n",
       "      <td>56</td>\n",
       "      <td>5</td>\n",
       "      <td>5</td>\n",
       "      <td>high</td>\n",
       "      <td>True</td>\n",
       "      <td>False</td>\n",
       "      <td>False</td>\n",
       "    </tr>\n",
       "    <tr>\n",
       "      <th>...</th>\n",
       "      <td>...</td>\n",
       "      <td>...</td>\n",
       "      <td>...</td>\n",
       "      <td>...</td>\n",
       "      <td>...</td>\n",
       "      <td>...</td>\n",
       "      <td>...</td>\n",
       "      <td>...</td>\n",
       "      <td>...</td>\n",
       "      <td>...</td>\n",
       "    </tr>\n",
       "    <tr>\n",
       "      <th>148</th>\n",
       "      <td>30.00000</td>\n",
       "      <td>193.000000</td>\n",
       "      <td>6.9</td>\n",
       "      <td>70</td>\n",
       "      <td>9</td>\n",
       "      <td>26</td>\n",
       "      <td>high</td>\n",
       "      <td>True</td>\n",
       "      <td>False</td>\n",
       "      <td>False</td>\n",
       "    </tr>\n",
       "    <tr>\n",
       "      <th>149</th>\n",
       "      <td>42.12931</td>\n",
       "      <td>145.000000</td>\n",
       "      <td>13.2</td>\n",
       "      <td>77</td>\n",
       "      <td>9</td>\n",
       "      <td>27</td>\n",
       "      <td>high</td>\n",
       "      <td>True</td>\n",
       "      <td>False</td>\n",
       "      <td>False</td>\n",
       "    </tr>\n",
       "    <tr>\n",
       "      <th>150</th>\n",
       "      <td>14.00000</td>\n",
       "      <td>191.000000</td>\n",
       "      <td>14.3</td>\n",
       "      <td>75</td>\n",
       "      <td>9</td>\n",
       "      <td>28</td>\n",
       "      <td>high</td>\n",
       "      <td>True</td>\n",
       "      <td>False</td>\n",
       "      <td>False</td>\n",
       "    </tr>\n",
       "    <tr>\n",
       "      <th>151</th>\n",
       "      <td>18.00000</td>\n",
       "      <td>131.000000</td>\n",
       "      <td>8.0</td>\n",
       "      <td>76</td>\n",
       "      <td>9</td>\n",
       "      <td>29</td>\n",
       "      <td>high</td>\n",
       "      <td>True</td>\n",
       "      <td>False</td>\n",
       "      <td>False</td>\n",
       "    </tr>\n",
       "    <tr>\n",
       "      <th>152</th>\n",
       "      <td>20.00000</td>\n",
       "      <td>223.000000</td>\n",
       "      <td>11.5</td>\n",
       "      <td>68</td>\n",
       "      <td>9</td>\n",
       "      <td>30</td>\n",
       "      <td>high</td>\n",
       "      <td>True</td>\n",
       "      <td>False</td>\n",
       "      <td>False</td>\n",
       "    </tr>\n",
       "  </tbody>\n",
       "</table>\n",
       "<p>153 rows × 10 columns</p>\n",
       "</div>"
      ],
      "text/plain": [
       "        Ozone     Solar.R  Wind  Temp  Month  Day humidity  high    low  \\\n",
       "0    41.00000  190.000000   7.4    67      5    1     high  True  False   \n",
       "1    36.00000  118.000000   8.0    72      5    2     high  True  False   \n",
       "2    12.00000  149.000000  12.6    74      5    3     high  True  False   \n",
       "3    18.00000  313.000000  11.5    62      5    4     high  True  False   \n",
       "4    42.12931  185.931507  14.3    56      5    5     high  True  False   \n",
       "..        ...         ...   ...   ...    ...  ...      ...   ...    ...   \n",
       "148  30.00000  193.000000   6.9    70      9   26     high  True  False   \n",
       "149  42.12931  145.000000  13.2    77      9   27     high  True  False   \n",
       "150  14.00000  191.000000  14.3    75      9   28     high  True  False   \n",
       "151  18.00000  131.000000   8.0    76      9   29     high  True  False   \n",
       "152  20.00000  223.000000  11.5    68      9   30     high  True  False   \n",
       "\n",
       "     medium  \n",
       "0     False  \n",
       "1     False  \n",
       "2     False  \n",
       "3     False  \n",
       "4     False  \n",
       "..      ...  \n",
       "148   False  \n",
       "149   False  \n",
       "150   False  \n",
       "151   False  \n",
       "152   False  \n",
       "\n",
       "[153 rows x 10 columns]"
      ]
     },
     "execution_count": 12,
     "metadata": {},
     "output_type": "execute_result"
    }
   ],
   "source": [
    "new_humidity=pd.get_dummies(A['humidity'])\n",
    "new=pd.concat([A,new_humidity],axis=1)\n",
    "new"
   ]
  },
  {
   "cell_type": "code",
   "execution_count": 13,
   "id": "fbca2985-5bfa-437d-a61b-d6c5ab7e66bb",
   "metadata": {},
   "outputs": [],
   "source": [
    "X = A[['Ozone']]\n",
    "Y = A[['Temp']]"
   ]
  },
  {
   "cell_type": "code",
   "execution_count": 14,
   "id": "873057fd-8130-4d47-b470-ce93fce91a20",
   "metadata": {},
   "outputs": [],
   "source": [
    "from sklearn.model_selection import train_test_split\n",
    "X_train, X_test, Y_train, Y_test = train_test_split(X, Y, test_size=0.2)"
   ]
  },
  {
   "cell_type": "code",
   "execution_count": 15,
   "id": "01552f62-82fb-4e2f-a3f5-a6c158207fe3",
   "metadata": {},
   "outputs": [
    {
     "data": {
      "text/plain": [
       "(122, 1)"
      ]
     },
     "execution_count": 15,
     "metadata": {},
     "output_type": "execute_result"
    }
   ],
   "source": [
    "X_train.shape"
   ]
  },
  {
   "cell_type": "code",
   "execution_count": 16,
   "id": "d4959808-585d-4c98-ba9e-46fd34d9eac2",
   "metadata": {},
   "outputs": [
    {
     "data": {
      "text/plain": [
       "array([[ 73.5620416 ],\n",
       "       [ 84.68798785],\n",
       "       [ 80.19481725],\n",
       "       [ 78.08287951],\n",
       "       [ 73.98996261],\n",
       "       [ 72.49223908],\n",
       "       [ 70.56659453],\n",
       "       [ 78.08287951],\n",
       "       [ 78.08287951],\n",
       "       [105.01423581],\n",
       "       [ 78.08287951],\n",
       "       [ 70.99451554],\n",
       "       [ 78.08287951],\n",
       "       [ 73.98996261],\n",
       "       [ 78.08287951],\n",
       "       [ 73.98996261],\n",
       "       [ 78.08287951],\n",
       "       [ 72.06431807],\n",
       "       [ 78.69709372],\n",
       "       [ 78.08287951],\n",
       "       [ 87.25551391],\n",
       "       [ 73.5620416 ],\n",
       "       [ 71.85035756],\n",
       "       [ 69.2828315 ],\n",
       "       [ 78.08287951],\n",
       "       [ 72.49223908],\n",
       "       [ 72.06431807],\n",
       "       [ 84.26006684],\n",
       "       [ 78.08287951],\n",
       "       [ 85.75779038],\n",
       "       [ 78.08287951]])"
      ]
     },
     "execution_count": 16,
     "metadata": {},
     "output_type": "execute_result"
    }
   ],
   "source": [
    "from sklearn.linear_model import LinearRegression\n",
    "\n",
    "reg=LinearRegression()\n",
    "reg.fit(X_train,Y_train)\n",
    "predictions=reg.predict(X_test)\n",
    "predictions"
   ]
  },
  {
   "cell_type": "code",
   "execution_count": 17,
   "id": "77acae44-10b3-4ea5-abf1-e35c5b8ae9bd",
   "metadata": {},
   "outputs": [
    {
     "data": {
      "text/plain": [
       "<matplotlib.collections.PathCollection at 0x1cadcf07ef0>"
      ]
     },
     "execution_count": 17,
     "metadata": {},
     "output_type": "execute_result"
    },
    {
     "data": {
      "image/png": "[encoded data removed]",
      "text/plain": [
       "<Figure size 640x480 with 1 Axes>"
      ]
     },
     "metadata": {},
     "output_type": "display_data"
    }
   ],
   "source": [
    "sbn.regplot(x=X_test['Ozone'],y=predictions,scatter_kws={'s':10})\n",
    "plt.scatter(X_test['Ozone'],Y_test, marker='+')"
   ]
  },
  {
   "cell_type": "code",
   "execution_count": null,
   "id": "5e5b1253-bb3c-49c5-863e-fa9239cc82ef",
   "metadata": {},
   "outputs": [],
   "source": []
  },
  {
   "cell_type": "code",
   "execution_count": null,
   "id": "cfee37f8-358b-4a50-9a73-aa9bd68aaa39",
   "metadata": {},
   "outputs": [],
   "source": []
  }
 ],
 "metadata": {
  "kernelspec": {
   "display_name": "Python 3 (ipykernel)",
   "language": "python",
   "name": "python3"
  },
  "language_info": {
   "codemirror_mode": {
    "name": "ipython",
    "version": 3
   },
   "file_extension": ".py",
   "mimetype": "text/x-python",
   "name": "python",
   "nbconvert_exporter": "python",
   "pygments_lexer": "ipython3",
   "version": "3.12.0"
  }
 },
 "nbformat": 4,
 "nbformat_minor": 5
}
